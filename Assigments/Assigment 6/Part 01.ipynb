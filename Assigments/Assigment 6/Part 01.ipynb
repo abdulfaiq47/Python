{
 "cells": [
  {
   "cell_type": "markdown",
   "id": "69f1f905",
   "metadata": {},
   "source": [
    "Part 1: Power of NumPy vs Python Lists \n",
    "1. Create a list of 10,0000 numbers and a NumPy array of the same numbers. \n",
    "   - Measure and compare the time taken to multiply each element by 5. \n",
    "   - Which one is faster? Why? "
   ]
  },
  {
   "cell_type": "markdown",
   "id": "25df0e15",
   "metadata": {},
   "source": [
    "Numpy is much faster than normal python list it make mathematical operation easliy , fast and relaiable on vactor and matrics and it is speacially used  for very vast amount calculation"
   ]
  },
  {
   "cell_type": "code",
   "execution_count": 1,
   "id": "1047b775",
   "metadata": {},
   "outputs": [],
   "source": [
    "import numpy as np"
   ]
  },
  {
   "cell_type": "code",
   "execution_count": 11,
   "id": "e168f39b",
   "metadata": {},
   "outputs": [
    {
     "name": "stdout",
     "output_type": "stream",
     "text": [
      "CPU times: total: 0 ns\n",
      "Wall time: 6.86 ms\n"
     ]
    }
   ],
   "source": [
    "%%time\n",
    "\n",
    "Listnormal = [i for i in range(100000)]"
   ]
  },
  {
   "cell_type": "code",
   "execution_count": 10,
   "id": "62144c83",
   "metadata": {},
   "outputs": [
    {
     "name": "stdout",
     "output_type": "stream",
     "text": [
      "CPU times: total: 0 ns\n",
      "Wall time: 597 μs\n"
     ]
    },
    {
     "data": {
      "text/plain": [
       "array([    0,     1,     2, ..., 99997, 99998, 99999])"
      ]
     },
     "execution_count": 10,
     "metadata": {},
     "output_type": "execute_result"
    }
   ],
   "source": [
    "%%time\n",
    "\n",
    "List = np.arange(100000)\n",
    "List"
   ]
  },
  {
   "cell_type": "code",
   "execution_count": 17,
   "id": "e9f25906",
   "metadata": {},
   "outputs": [
    {
     "name": "stdout",
     "output_type": "stream",
     "text": [
      "CPU times: total: 0 ns\n",
      "Wall time: 3.3 ms\n"
     ]
    }
   ],
   "source": [
    "%%time\n",
    "mu = [5 * Listnormal]\n"
   ]
  },
  {
   "cell_type": "code",
   "execution_count": 9,
   "id": "10670d97",
   "metadata": {},
   "outputs": [
    {
     "name": "stdout",
     "output_type": "stream",
     "text": [
      "CPU times: total: 0 ns\n",
      "Wall time: 1.36 ms\n"
     ]
    },
    {
     "data": {
      "text/plain": [
       "array([     0,      5,     10, ..., 499985, 499990, 499995])"
      ]
     },
     "execution_count": 9,
     "metadata": {},
     "output_type": "execute_result"
    }
   ],
   "source": [
    "%%time\n",
    "\n",
    "List * 5"
   ]
  },
  {
   "cell_type": "code",
   "execution_count": null,
   "id": "91cb2510",
   "metadata": {},
   "outputs": [],
   "source": []
  }
 ],
 "metadata": {
  "kernelspec": {
   "display_name": "base",
   "language": "python",
   "name": "python3"
  },
  "language_info": {
   "codemirror_mode": {
    "name": "ipython",
    "version": 3
   },
   "file_extension": ".py",
   "mimetype": "text/x-python",
   "name": "python",
   "nbconvert_exporter": "python",
   "pygments_lexer": "ipython3",
   "version": "3.13.5"
  }
 },
 "nbformat": 4,
 "nbformat_minor": 5
}
