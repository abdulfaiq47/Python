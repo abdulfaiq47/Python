{
 "cells": [
  {
   "cell_type": "markdown",
   "id": "32b07683",
   "metadata": {},
   "source": [
    "Part 4: Reshape, Flatten, Ravel \n",
    "1. Create an array of numbers from 1–12. Reshape it into a (3×4) array. Then reshape it again into (2×6). \n",
    "2. Use .flatten() and .ravel() on a 2D array and show the difference between them when you modify the \n",
    "flattened and raveled array. \n",
    "3. Given an array: \n",
    "arr = np.arange(1, 10).reshape(3, 3) \n",
    "   - Convert it into a 1D array using both methods. \n",
    "   - Show if changes in one reflect in the original array."
   ]
  },
  {
   "cell_type": "code",
   "execution_count": 105,
   "id": "eedce5b0",
   "metadata": {},
   "outputs": [],
   "source": [
    "import numpy as np"
   ]
  },
  {
   "cell_type": "code",
   "execution_count": 106,
   "id": "4275f016",
   "metadata": {},
   "outputs": [],
   "source": [
    "arr = np.array([1,2,3,4,5,6,7,8,9,10,11,12])"
   ]
  },
  {
   "cell_type": "code",
   "execution_count": 107,
   "id": "d8308a1a",
   "metadata": {},
   "outputs": [],
   "source": [
    "arr= arr.reshape(3,4)"
   ]
  },
  {
   "cell_type": "code",
   "execution_count": 108,
   "id": "90d29ede",
   "metadata": {},
   "outputs": [
    {
     "name": "stdout",
     "output_type": "stream",
     "text": [
      "[[ 1  2  3  4]\n",
      " [ 5  6  7  8]\n",
      " [ 9 10 11 12]]\n"
     ]
    }
   ],
   "source": [
    "print(arr)"
   ]
  },
  {
   "cell_type": "code",
   "execution_count": 109,
   "id": "04cb4e9d",
   "metadata": {},
   "outputs": [],
   "source": [
    "arr = arr.reshape(2,6)"
   ]
  },
  {
   "cell_type": "code",
   "execution_count": 110,
   "id": "97955600",
   "metadata": {},
   "outputs": [
    {
     "name": "stdout",
     "output_type": "stream",
     "text": [
      "[[ 1  2  3  4  5  6]\n",
      " [ 7  8  9 10 11 12]]\n"
     ]
    }
   ],
   "source": [
    "print(arr)\n"
   ]
  },
  {
   "cell_type": "code",
   "execution_count": 117,
   "id": "f0e29d11",
   "metadata": {},
   "outputs": [],
   "source": [
    "fal = arr.flatten()\n",
    "fal[0] = 200"
   ]
  },
  {
   "cell_type": "code",
   "execution_count": 118,
   "id": "19305ba8",
   "metadata": {},
   "outputs": [
    {
     "name": "stdout",
     "output_type": "stream",
     "text": [
      "[200   2   3   4   5   6   7   8   9  10  11  12]\n"
     ]
    }
   ],
   "source": [
    "print(fal)"
   ]
  },
  {
   "cell_type": "code",
   "execution_count": 119,
   "id": "2ccc55c5",
   "metadata": {},
   "outputs": [
    {
     "name": "stdout",
     "output_type": "stream",
     "text": [
      "[[ 1  2  3  4  5  6]\n",
      " [ 7  8  9 10 11 12]]\n"
     ]
    }
   ],
   "source": [
    "print(arr)"
   ]
  },
  {
   "cell_type": "code",
   "execution_count": 120,
   "id": "f6109a92",
   "metadata": {},
   "outputs": [],
   "source": [
    "rave = arr.ravel()\n",
    "rave[0] = 201"
   ]
  },
  {
   "cell_type": "code",
   "execution_count": 121,
   "id": "6b41655e",
   "metadata": {},
   "outputs": [
    {
     "name": "stdout",
     "output_type": "stream",
     "text": [
      "[201   2   3   4   5   6   7   8   9  10  11  12]\n"
     ]
    }
   ],
   "source": [
    "print(rave)"
   ]
  },
  {
   "cell_type": "code",
   "execution_count": 122,
   "id": "22ba60b5",
   "metadata": {},
   "outputs": [
    {
     "name": "stdout",
     "output_type": "stream",
     "text": [
      "[[201   2   3   4   5   6]\n",
      " [  7   8   9  10  11  12]]\n"
     ]
    }
   ],
   "source": [
    "print(arr)"
   ]
  },
  {
   "cell_type": "markdown",
   "id": "6cf0eee2",
   "metadata": {},
   "source": [
    "as you can see flatten work with copy thats mean original array will not effect\n",
    "but in ravel oppossite of flatten its work on view original will effect"
   ]
  },
  {
   "cell_type": "code",
   "execution_count": 124,
   "id": "9fb98c03",
   "metadata": {},
   "outputs": [],
   "source": [
    "arr1 = np.arange(1, 10).reshape(3, 3) "
   ]
  },
  {
   "cell_type": "code",
   "execution_count": 125,
   "id": "2d7780ef",
   "metadata": {},
   "outputs": [
    {
     "name": "stdout",
     "output_type": "stream",
     "text": [
      "[[1 2 3]\n",
      " [4 5 6]\n",
      " [7 8 9]]\n"
     ]
    }
   ],
   "source": [
    "print(arr1)"
   ]
  },
  {
   "cell_type": "code",
   "execution_count": 127,
   "id": "2f8bc43d",
   "metadata": {},
   "outputs": [
    {
     "name": "stdout",
     "output_type": "stream",
     "text": [
      "[1 2 3 4 5 6 7 8 9]\n"
     ]
    }
   ],
   "source": [
    "flate= arr1.flatten()\n",
    "print(flate)"
   ]
  },
  {
   "cell_type": "code",
   "execution_count": 129,
   "id": "eceacf00",
   "metadata": {},
   "outputs": [
    {
     "name": "stdout",
     "output_type": "stream",
     "text": [
      "[[1 2 3]\n",
      " [4 5 6]\n",
      " [7 8 9]]\n"
     ]
    }
   ],
   "source": [
    "print(arr1)"
   ]
  },
  {
   "cell_type": "code",
   "execution_count": 131,
   "id": "3471453b",
   "metadata": {},
   "outputs": [
    {
     "name": "stdout",
     "output_type": "stream",
     "text": [
      "[1 2 3 4 5 6 7 8 9]\n"
     ]
    }
   ],
   "source": [
    "rav = arr1.ravel()\n",
    "print(rav)"
   ]
  },
  {
   "cell_type": "code",
   "execution_count": 132,
   "id": "b04086e5",
   "metadata": {},
   "outputs": [
    {
     "name": "stdout",
     "output_type": "stream",
     "text": [
      "[[1 2 3]\n",
      " [4 5 6]\n",
      " [7 8 9]]\n"
     ]
    }
   ],
   "source": [
    "print(arr1)"
   ]
  },
  {
   "cell_type": "code",
   "execution_count": null,
   "id": "6f2a263d",
   "metadata": {},
   "outputs": [],
   "source": []
  }
 ],
 "metadata": {
  "kernelspec": {
   "display_name": "base",
   "language": "python",
   "name": "python3"
  },
  "language_info": {
   "codemirror_mode": {
    "name": "ipython",
    "version": 3
   },
   "file_extension": ".py",
   "mimetype": "text/x-python",
   "name": "python",
   "nbconvert_exporter": "python",
   "pygments_lexer": "ipython3",
   "version": "3.13.5"
  }
 },
 "nbformat": 4,
 "nbformat_minor": 5
}
