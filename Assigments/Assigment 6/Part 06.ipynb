{
 "cells": [
  {
   "cell_type": "markdown",
   "id": "a216c859",
   "metadata": {},
   "source": [
    "Part 4: Broadcasting \n",
    "1. Create a 3×3 matrix – named as A and: \n",
    "   - Add 10 to it (scalar broadcasting). \n",
    "   - Add a row vector [1, 2, 3] to it (row broadcasting). \n",
    "   - Add a column vector [[1], [2], [3]] to it (column broadcasting). \n",
    "2. Predict the shape of each result before executing the code. "
   ]
  },
  {
   "cell_type": "code",
   "execution_count": 30,
   "id": "abaef81b",
   "metadata": {},
   "outputs": [],
   "source": [
    "import numpy as np"
   ]
  },
  {
   "cell_type": "code",
   "execution_count": 31,
   "id": "6279aed7",
   "metadata": {},
   "outputs": [],
   "source": [
    "A = mat = np.array([\n",
    "    [1,2,3],\n",
    "    [4,5,6],\n",
    "    [7,8,9]])"
   ]
  },
  {
   "cell_type": "code",
   "execution_count": null,
   "id": "e1a9ec6c",
   "metadata": {},
   "outputs": [],
   "source": [
    "A = mat + 10\n",
    "\n",
    "# predict : \n",
    "# \n",
    "# [[10,12,13],\n",
    "# [14,15,16],\n",
    "# 17,18,19]"
   ]
  },
  {
   "cell_type": "code",
   "execution_count": null,
   "id": "3249facb",
   "metadata": {},
   "outputs": [],
   "source": [
    "row = np.array([1,2,3])\n",
    "\n",
    "A = mat + row\n",
    "\n",
    "# sahpe of A (3,3)\n",
    "# shape of row (3,1)\n",
    "\n",
    "# so numpy broadcast of   [1,2,3],\n",
    "#                         [1,2,3]\n",
    "#                         [1,2,3]\n",
    "# Result:\n",
    "#     [[ 2,4,6],\n",
    "#     [ 5,7,9],\n",
    "#     [ 8,10,12]]"
   ]
  },
  {
   "cell_type": "code",
   "execution_count": null,
   "id": "60caefe3",
   "metadata": {},
   "outputs": [],
   "source": [
    "col = np.array([[1],[2],[3]])\n",
    "\n",
    "A = mat + col\n",
    "\n",
    "similarly \n",
    "# sahpe of A (3,3)\n",
    "# shape of col (1,3)\n",
    "\n",
    "# of numpy broadcast of   [1,1,1],\n",
    "#                         [2,2,2]\n",
    "#                         [3,3,3]\n"
   ]
  },
  {
   "cell_type": "markdown",
   "id": "70fe57f1",
   "metadata": {},
   "source": [
    "### so the of the array will be 3x3 and the result will be\n",
    "\n",
    "[[ 2  3  4]\n",
    " [ 6  7  8]\n",
    " [10 11 12]]"
   ]
  },
  {
   "cell_type": "markdown",
   "id": "6f806c8a",
   "metadata": {},
   "source": []
  }
 ],
 "metadata": {
  "kernelspec": {
   "display_name": "base",
   "language": "python",
   "name": "python3"
  },
  "language_info": {
   "codemirror_mode": {
    "name": "ipython",
    "version": 3
   },
   "file_extension": ".py",
   "mimetype": "text/x-python",
   "name": "python",
   "nbconvert_exporter": "python",
   "pygments_lexer": "ipython3",
   "version": "3.13.5"
  }
 },
 "nbformat": 4,
 "nbformat_minor": 5
}
