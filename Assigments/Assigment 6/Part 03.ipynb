{
 "cells": [
  {
   "cell_type": "markdown",
   "id": "f7934eae",
   "metadata": {},
   "source": [
    "Part 3: Array Creation Functions \n",
    "1. Use NumPy built-in functions to generate: \n",
    "   a) A zero matrix of size 4×4 \n",
    "   b) A one matrix of size 3×2 \n",
    "   c) An identity matrix of size 5×5  \n",
    "   d) A constant values array filled with the value 7  \n",
    "   e) A random integer array of size (3×4), with values between 10 and 99 \n",
    "2. Use np.arange() to generate an array from 5 to 50 with a step size of 5. Then reshape it into (3×3)"
   ]
  },
  {
   "cell_type": "code",
   "execution_count": 14,
   "id": "21936868",
   "metadata": {},
   "outputs": [],
   "source": [
    "import numpy as np"
   ]
  },
  {
   "cell_type": "code",
   "execution_count": 15,
   "id": "97ec6523",
   "metadata": {},
   "outputs": [],
   "source": [
    "zer = np.zeros((4,4))"
   ]
  },
  {
   "cell_type": "code",
   "execution_count": 16,
   "id": "3e0a2ae2",
   "metadata": {},
   "outputs": [],
   "source": [
    "one = np.ones((3,2))"
   ]
  },
  {
   "cell_type": "code",
   "execution_count": 17,
   "id": "41b8ab07",
   "metadata": {},
   "outputs": [],
   "source": [
    "ident = np.eye(5,5)"
   ]
  },
  {
   "cell_type": "code",
   "execution_count": 18,
   "id": "fcc02edc",
   "metadata": {},
   "outputs": [],
   "source": [
    "one[one == 1] = 2"
   ]
  },
  {
   "cell_type": "code",
   "execution_count": 21,
   "id": "b15f72df",
   "metadata": {},
   "outputs": [],
   "source": [
    "random =np.random.randint(10, 90 )"
   ]
  },
  {
   "cell_type": "code",
   "execution_count": 23,
   "id": "fffc88e6",
   "metadata": {},
   "outputs": [],
   "source": [
    "arr = np.arange(5,50,5)"
   ]
  },
  {
   "cell_type": "code",
   "execution_count": 25,
   "id": "8a41bce2",
   "metadata": {},
   "outputs": [],
   "source": [
    "resh = arr.reshape(3,3)"
   ]
  },
  {
   "cell_type": "code",
   "execution_count": 26,
   "id": "eb6ecd1f",
   "metadata": {},
   "outputs": [
    {
     "data": {
      "text/plain": [
       "array([[ 5, 10, 15],\n",
       "       [20, 25, 30],\n",
       "       [35, 40, 45]])"
      ]
     },
     "execution_count": 26,
     "metadata": {},
     "output_type": "execute_result"
    }
   ],
   "source": [
    "resh"
   ]
  },
  {
   "cell_type": "code",
   "execution_count": null,
   "id": "934b7b01",
   "metadata": {},
   "outputs": [],
   "source": []
  }
 ],
 "metadata": {
  "kernelspec": {
   "display_name": "base",
   "language": "python",
   "name": "python3"
  },
  "language_info": {
   "codemirror_mode": {
    "name": "ipython",
    "version": 3
   },
   "file_extension": ".py",
   "mimetype": "text/x-python",
   "name": "python",
   "nbconvert_exporter": "python",
   "pygments_lexer": "ipython3",
   "version": "3.13.5"
  }
 },
 "nbformat": 4,
 "nbformat_minor": 5
}
