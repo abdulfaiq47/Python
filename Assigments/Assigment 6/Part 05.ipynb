{
 "cells": [
  {
   "cell_type": "markdown",
   "id": "9071d15e",
   "metadata": {},
   "source": [
    "Part 4: Vectorization \n",
    "1. Create two arrays A and B of 5 random integers each. Perform element-wise addition, subtraction, \n",
    "multiplication, and division without using loops. \n",
    "2. Using vectorization, compute the square root, exponential, and sine of all elements in a single array. \n",
    "[Hint: for computing using np.sqrt(), For computing use np.exp(), For Computing sine using np.sin()] \n",
    "3. Given a list of 10 temperatures in Celsius, convert them to Fahrenheit using a single vectorized \n",
    "expression. \n",
    "[Hint: for Celsius to Fahrenheit conversion use formula  °F = (°C × 9/5) + 32] "
   ]
  },
  {
   "cell_type": "code",
   "execution_count": 54,
   "id": "aec6bcd3",
   "metadata": {},
   "outputs": [],
   "source": [
    "import numpy as np"
   ]
  },
  {
   "cell_type": "code",
   "execution_count": 55,
   "id": "1c3e2157",
   "metadata": {},
   "outputs": [],
   "source": [
    "arr = np.array(np.random.randint(0,99, size= 5))"
   ]
  },
  {
   "cell_type": "code",
   "execution_count": 56,
   "id": "62432848",
   "metadata": {},
   "outputs": [
    {
     "data": {
      "text/plain": [
       "array([ 6, 68, 12, 16, 45], dtype=int32)"
      ]
     },
     "execution_count": 56,
     "metadata": {},
     "output_type": "execute_result"
    }
   ],
   "source": [
    "arr"
   ]
  },
  {
   "cell_type": "code",
   "execution_count": 57,
   "id": "74f3155b",
   "metadata": {},
   "outputs": [
    {
     "data": {
      "text/plain": [
       "array([11, 73, 17, 21, 50], dtype=int32)"
      ]
     },
     "execution_count": 57,
     "metadata": {},
     "output_type": "execute_result"
    }
   ],
   "source": [
    "arr +5"
   ]
  },
  {
   "cell_type": "code",
   "execution_count": 58,
   "id": "a3cb9493",
   "metadata": {},
   "outputs": [
    {
     "data": {
      "text/plain": [
       "array([ 1, 63,  7, 11, 40], dtype=int32)"
      ]
     },
     "execution_count": 58,
     "metadata": {},
     "output_type": "execute_result"
    }
   ],
   "source": [
    "arr -5"
   ]
  },
  {
   "cell_type": "code",
   "execution_count": 59,
   "id": "87e9fdac",
   "metadata": {},
   "outputs": [
    {
     "data": {
      "text/plain": [
       "array([ 30, 340,  60,  80, 225], dtype=int32)"
      ]
     },
     "execution_count": 59,
     "metadata": {},
     "output_type": "execute_result"
    }
   ],
   "source": [
    "arr * 5"
   ]
  },
  {
   "cell_type": "code",
   "execution_count": 60,
   "id": "95932622",
   "metadata": {},
   "outputs": [
    {
     "data": {
      "text/plain": [
       "array([ 1.2, 13.6,  2.4,  3.2,  9. ])"
      ]
     },
     "execution_count": 60,
     "metadata": {},
     "output_type": "execute_result"
    }
   ],
   "source": [
    "arr / 5"
   ]
  },
  {
   "cell_type": "code",
   "execution_count": 61,
   "id": "7d002ea8",
   "metadata": {},
   "outputs": [
    {
     "data": {
      "text/plain": [
       "array([2.44948974, 8.24621125, 3.46410162, 4.        , 6.70820393])"
      ]
     },
     "execution_count": 61,
     "metadata": {},
     "output_type": "execute_result"
    }
   ],
   "source": [
    "np.sqrt(arr)"
   ]
  },
  {
   "cell_type": "code",
   "execution_count": 62,
   "id": "fc485b81",
   "metadata": {},
   "outputs": [
    {
     "data": {
      "text/plain": [
       "array([-0.2794155 , -0.89792768, -0.53657292, -0.28790332,  0.85090352])"
      ]
     },
     "execution_count": 62,
     "metadata": {},
     "output_type": "execute_result"
    }
   ],
   "source": [
    "np.sin(arr)"
   ]
  },
  {
   "cell_type": "code",
   "execution_count": 63,
   "id": "5f1b3404",
   "metadata": {},
   "outputs": [
    {
     "data": {
      "text/plain": [
       "array([4.03428793e+02, 3.40427605e+29, 1.62754791e+05, 8.88611052e+06,\n",
       "       3.49342711e+19])"
      ]
     },
     "execution_count": 63,
     "metadata": {},
     "output_type": "execute_result"
    }
   ],
   "source": [
    "np.exp(arr)"
   ]
  },
  {
   "cell_type": "code",
   "execution_count": 64,
   "id": "83c7b52d",
   "metadata": {},
   "outputs": [],
   "source": [
    "# make temperature list in numPy say array\n",
    "\n",
    "temp = np.array(np.random.randint(5,25, size=10))  #make array in whch value in random 1 to 10 will be int32\n",
    "temp\n",
    "\n",
    "f = temp * 9/5 +32"
   ]
  },
  {
   "cell_type": "code",
   "execution_count": 65,
   "id": "3f9497f1",
   "metadata": {},
   "outputs": [
    {
     "data": {
      "text/plain": [
       "array([46.4, 57.2, 46.4, 64.4, 68. , 66.2, 44.6, 69.8, 66.2, 44.6])"
      ]
     },
     "execution_count": 65,
     "metadata": {},
     "output_type": "execute_result"
    }
   ],
   "source": [
    "f"
   ]
  },
  {
   "cell_type": "code",
   "execution_count": null,
   "id": "bade6a4c",
   "metadata": {},
   "outputs": [],
   "source": []
  }
 ],
 "metadata": {
  "kernelspec": {
   "display_name": "base",
   "language": "python",
   "name": "python3"
  },
  "language_info": {
   "codemirror_mode": {
    "name": "ipython",
    "version": 3
   },
   "file_extension": ".py",
   "mimetype": "text/x-python",
   "name": "python",
   "nbconvert_exporter": "python",
   "pygments_lexer": "ipython3",
   "version": "3.13.5"
  }
 },
 "nbformat": 4,
 "nbformat_minor": 5
}
