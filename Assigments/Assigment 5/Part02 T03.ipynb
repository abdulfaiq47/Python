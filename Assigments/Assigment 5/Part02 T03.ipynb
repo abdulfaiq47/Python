{
 "cells": [
  {
   "cell_type": "markdown",
   "id": "3fa2720b",
   "metadata": {},
   "source": [
    "## Task 3: Multi-Level – Family Tree \n",
    "###   Create a class GrandParent with method family_name(). \n",
    "###   Parent class inherits GrandParent.  Add method occupation() in Parent class. \n",
    "###   Child inherits Parent. Add method hobby() in Child class. \n",
    "###   Create Child object and call all methods"
   ]
  },
  {
   "cell_type": "code",
   "execution_count": 1,
   "id": "922279d3",
   "metadata": {},
   "outputs": [],
   "source": [
    "class GrandParent:\n",
    "    def family_name(self):\n",
    "        return \"Family Name: hyyy\"\n",
    "\n",
    "\n",
    "class Parent(GrandParent):\n",
    "    def occupation(self):\n",
    "        return \"Occupation: Engineer\"\n",
    "\n",
    "class Child(Parent):\n",
    "    def hobby(self):\n",
    "        return \"Hobby: Painting\"\n",
    "\n",
    "    def display_all(self):\n",
    "        return f\"\\n{self.family_name()}, \\n{self.occupation()}, \\n{self.hobby()}\"\n",
    "        "
   ]
  },
  {
   "cell_type": "code",
   "execution_count": 2,
   "id": "169f3f0d",
   "metadata": {},
   "outputs": [
    {
     "name": "stdout",
     "output_type": "stream",
     "text": [
      "\n",
      "Family Name: hyyy, \n",
      "Occupation: Engineer, \n",
      "Hobby: Painting\n"
     ]
    }
   ],
   "source": [
    "h= Child()\n",
    "print(h.display_all())"
   ]
  },
  {
   "cell_type": "code",
   "execution_count": null,
   "id": "390f75bd",
   "metadata": {},
   "outputs": [],
   "source": []
  }
 ],
 "metadata": {
  "kernelspec": {
   "display_name": "base",
   "language": "python",
   "name": "python3"
  },
  "language_info": {
   "codemirror_mode": {
    "name": "ipython",
    "version": 3
   },
   "file_extension": ".py",
   "mimetype": "text/x-python",
   "name": "python",
   "nbconvert_exporter": "python",
   "pygments_lexer": "ipython3",
   "version": "3.13.5"
  }
 },
 "nbformat": 4,
 "nbformat_minor": 5
}
