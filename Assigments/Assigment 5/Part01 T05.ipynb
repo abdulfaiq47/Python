{
 "cells": [
  {
   "cell_type": "markdown",
   "id": "7bc26766",
   "metadata": {},
   "source": [
    "### Task 5: Shopping Cart\n",
    "####  Class ShoppingCart with private list items.\n",
    "####  Add methods:\n",
    "#### o add_item(item)\n",
    "#### o remove_item(item)\n",
    "#### o view_cart() → return items of list.\n",
    "####  Ensure no duplicate items allowed. "
   ]
  },
  {
   "cell_type": "code",
   "execution_count": 11,
   "id": "87ab9ec4",
   "metadata": {},
   "outputs": [],
   "source": [
    "class ShoppinCart:\n",
    "    def __init__(self, item):\n",
    "        self.__item= [item]\n",
    "\n",
    "# Setter method\n",
    "    def add_item(self, prod):\n",
    "        self.__item.append(prod)\n",
    "        self.__Remove_duplicates()   # call the private method to remove duplicates\n",
    "\n",
    "    def remove_item(self, prod):\n",
    "        if prod in self.__item:\n",
    "            self.__item.remove(prod)\n",
    "        else:\n",
    "            print(f\"{prod} not found in cart\")\n",
    "\n",
    "    #   getter method        \n",
    "    def get_item(self):\n",
    "        return self.__item\n",
    "\n",
    "    \n",
    "\n",
    "\n",
    "    def __Remove_duplicates(self):   # make a Private method that call every method in the class to remove duplicates\n",
    "        self.__item = list(set(self.__item))   # convert list to set to remove duplicates because set remove  duplicates   THEN convert set back to list\n",
    "        return self.__item\n",
    "    \n",
    "    "
   ]
  },
  {
   "cell_type": "code",
   "execution_count": 12,
   "id": "55b46e31",
   "metadata": {},
   "outputs": [
    {
     "name": "stdout",
     "output_type": "stream",
     "text": [
      "['Banana', 'Orange', 'Apple']\n",
      "['Orange', 'Apple']\n"
     ]
    }
   ],
   "source": [
    "\n",
    "cart = ShoppinCart(\"Apple\")\n",
    "\n",
    "cart.add_item(\"Banana\")\n",
    "cart.add_item(\"Orange\")\n",
    "cart.add_item(\"Orange\")\n",
    "\n",
    "\n",
    "print(cart.get_item())  # ['Apple', 'Banana', 'Orange']\n",
    "\n",
    "cart.remove_item(\"Banana\")\n",
    "print(cart.get_item())  # ['Apple', 'Orange']\n"
   ]
  },
  {
   "cell_type": "code",
   "execution_count": null,
   "id": "66deac3f",
   "metadata": {},
   "outputs": [],
   "source": []
  }
 ],
 "metadata": {
  "kernelspec": {
   "display_name": "base",
   "language": "python",
   "name": "python3"
  },
  "language_info": {
   "codemirror_mode": {
    "name": "ipython",
    "version": 3
   },
   "file_extension": ".py",
   "mimetype": "text/x-python",
   "name": "python",
   "nbconvert_exporter": "python",
   "pygments_lexer": "ipython3",
   "version": "3.13.5"
  }
 },
 "nbformat": 4,
 "nbformat_minor": 5
}
