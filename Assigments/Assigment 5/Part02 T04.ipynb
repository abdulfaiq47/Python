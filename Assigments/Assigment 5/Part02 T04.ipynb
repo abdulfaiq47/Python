{
 "cells": [
  {
   "cell_type": "markdown",
   "id": "74c25154",
   "metadata": {},
   "source": []
  },
  {
   "cell_type": "code",
   "execution_count": 11,
   "id": "209c7829",
   "metadata": {},
   "outputs": [],
   "source": [
    "class Father():\n",
    "    def Skill():\n",
    "        return \"Scientist\"\n",
    "\n",
    "class Mother():\n",
    "    def Skill():\n",
    "        return   \"Freelancer\"\n",
    "\n",
    "class Child(Father, Mother):\n",
    "    def display_skills(self):\n",
    "        return f\"Have Both Skill : {Father.Skill()} And {Mother.Skill()}\"\n",
    "\n",
    "        "
   ]
  },
  {
   "cell_type": "code",
   "execution_count": 12,
   "id": "348c30b9",
   "metadata": {},
   "outputs": [
    {
     "name": "stdout",
     "output_type": "stream",
     "text": [
      "Have Both Skill : Scientist And Freelancer\n"
     ]
    }
   ],
   "source": [
    "st = Child()\n",
    "print(st.display_skills())"
   ]
  },
  {
   "cell_type": "code",
   "execution_count": null,
   "id": "315e47a2",
   "metadata": {},
   "outputs": [],
   "source": []
  }
 ],
 "metadata": {
  "kernelspec": {
   "display_name": "base",
   "language": "python",
   "name": "python3"
  },
  "language_info": {
   "codemirror_mode": {
    "name": "ipython",
    "version": 3
   },
   "file_extension": ".py",
   "mimetype": "text/x-python",
   "name": "python",
   "nbconvert_exporter": "python",
   "pygments_lexer": "ipython3",
   "version": "3.13.5"
  }
 },
 "nbformat": 4,
 "nbformat_minor": 5
}
