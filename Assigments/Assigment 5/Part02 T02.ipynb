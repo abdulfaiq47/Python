{
 "cells": [
  {
   "cell_type": "markdown",
   "id": "8ef94098",
   "metadata": {},
   "source": [
    "## Task 2: Single Level – Vehicle \n",
    "###   Parent class Vehicle with attributes brand, model. \n",
    "###   Child class Car with attribute seats. \n",
    "###   Create object of Car and display details"
   ]
  },
  {
   "cell_type": "code",
   "execution_count": 16,
   "id": "5bd70f85",
   "metadata": {},
   "outputs": [],
   "source": [
    "class Vehicle():\n",
    "    def __init__(self, brand, model):\n",
    "        self.brand = brand\n",
    "        self.model = model\n",
    "\n",
    "class Car(Vehicle):\n",
    "    def __init__(self, brand, model, seats):\n",
    "        super().__init__(brand, model)\n",
    "        self.seats = seats\n",
    "\n",
    "    def Display_details(self):\n",
    "        return f\"Car Brand: {self.brand}, \\nCar Model: {self.model}, \\nNumber of Seats: {self.seats}\"\n"
   ]
  },
  {
   "cell_type": "code",
   "execution_count": 17,
   "id": "995fe458",
   "metadata": {},
   "outputs": [
    {
     "name": "stdout",
     "output_type": "stream",
     "text": [
      "Car Brand: Toyota, \n",
      "Car Model: Camry, \n",
      "Number of Seats: 5\n"
     ]
    }
   ],
   "source": [
    "da= Car(\"Toyota\", \"Camry\", 5)\n",
    "print(da.Display_details())"
   ]
  },
  {
   "cell_type": "code",
   "execution_count": null,
   "id": "f90de109",
   "metadata": {},
   "outputs": [],
   "source": []
  }
 ],
 "metadata": {
  "kernelspec": {
   "display_name": "base",
   "language": "python",
   "name": "python3"
  },
  "language_info": {
   "codemirror_mode": {
    "name": "ipython",
    "version": 3
   },
   "file_extension": ".py",
   "mimetype": "text/x-python",
   "name": "python",
   "nbconvert_exporter": "python",
   "pygments_lexer": "ipython3",
   "version": "3.13.5"
  }
 },
 "nbformat": 4,
 "nbformat_minor": 5
}
