{
 "cells": [
  {
   "cell_type": "markdown",
   "id": "6d4e37ea",
   "metadata": {},
   "source": [
    "## Task 3: Password Manager \n",
    "##   Create a class PasswordManager with public attributes username and private attribute password. \n",
    "####   Add methods: \n",
    "#### o  set_password(old, new) → update only if old matches. \n",
    "#### o  check_username(name)  for checking the input user name.  (Private method) \n",
    "#### o  check_password(input) → return True/False.  (Private Method) "
   ]
  },
  {
   "cell_type": "code",
   "execution_count": 5,
   "id": "8707c23e",
   "metadata": {},
   "outputs": [],
   "source": [
    "class Passwordmanager:\n",
    "    def __init__(self, username, password):\n",
    "        self.username = username\n",
    "        self.__password= password\n",
    "\n",
    "    def set_pass(self):\n",
    "        user = input(\"Enter username to update password: \") \n",
    "        if user == self.username:\n",
    "            old_pass= input(\"Enter your OLD pasword: \")\n",
    "            if old_pass == self.__password:\n",
    "                new_pass = input(\"Enter your new Password: \")\n",
    "                self.__password = new_pass\n",
    "                return \"Prehap Done SuccessFully >>>\"\n",
    "            else:\n",
    "                return \"invaild pass!!\"    \n",
    "        else:\n",
    "             return \"Invalid username!!\"\n",
    "\n",
    "\n",
    "    # Private method to check username\n",
    "    def __check_username(self, name):\n",
    "        return self.username == name\n",
    "\n",
    "    # Private method to check password\n",
    "    def __check_password(self, input_pass):\n",
    "        if self.__password == input_pass  :\n",
    "            return True\n",
    "        else:\n",
    "            return False\n",
    "                 "
   ]
  },
  {
   "cell_type": "code",
   "execution_count": 6,
   "id": "fc31c3a4",
   "metadata": {},
   "outputs": [
    {
     "name": "stdout",
     "output_type": "stream",
     "text": [
      "Prehap Done SuccessFully >>>\n",
      "Invalid username!!\n",
      "invaild pass!!\n"
     ]
    }
   ],
   "source": [
    "pm = Passwordmanager(\"faiq\", \"12345\")\n",
    "\n",
    "print(pm.set_pass())   \n",
    "print(pm.set_pass())  \n",
    "print(pm.set_pass()) "
   ]
  },
  {
   "cell_type": "code",
   "execution_count": null,
   "id": "70437e0b",
   "metadata": {},
   "outputs": [],
   "source": []
  }
 ],
 "metadata": {
  "kernelspec": {
   "display_name": "base",
   "language": "python",
   "name": "python3"
  },
  "language_info": {
   "codemirror_mode": {
    "name": "ipython",
    "version": 3
   },
   "file_extension": ".py",
   "mimetype": "text/x-python",
   "name": "python",
   "nbconvert_exporter": "python",
   "pygments_lexer": "ipython3",
   "version": "3.13.5"
  }
 },
 "nbformat": 4,
 "nbformat_minor": 5
}
