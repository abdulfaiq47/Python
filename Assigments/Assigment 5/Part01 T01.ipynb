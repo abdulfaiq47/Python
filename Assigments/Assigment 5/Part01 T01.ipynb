{
 "cells": [
  {
   "cell_type": "markdown",
   "id": "a39e3871",
   "metadata": {},
   "source": [
    "## Part 1: Encapsulation Practice Tasks:\n",
    "#### Task 1: Bank Account\n",
    "#####  Create a class BankAccount with private attributes account_number and balance.\n",
    "#####  Add methods:\n",
    "   #####    o deposit(amount)\n",
    "   #####    o withdraw(amount) (should not allow balance < 0)\n",
    "   #####    o get_balance()\n"
   ]
  },
  {
   "cell_type": "code",
   "execution_count": 12,
   "id": "3df121f6",
   "metadata": {},
   "outputs": [],
   "source": [
    "class BankAccount:  #make a class\n",
    "\n",
    "\n",
    "    # constructor\n",
    "    def __init__(self, account_number, balance):\n",
    "         # instance attributes\n",
    "        self.__account_number = account_number  # Privates Attributes\n",
    "        self.__balance =int(balance) \n",
    " # instance method also Setter method\n",
    "    def deposit(self, ):\n",
    "        account_No = input(\"Enter Your Account number\")\n",
    "        Newbalance = int(input(\"Enter a balance to deposit\"))\n",
    "        if account_No == self.__account_number:\n",
    "             self.__balance += Newbalance\n",
    "             return f\"Deposited {Newbalance}. New balance: {self.__balance}\"\n",
    "        else: \n",
    "            return \"Invaild Account Number\"\n",
    "                \n",
    "    # getter method    \n",
    "    def withdraw(self, amount):\n",
    "        if amount <= 0: # check if amount is = 0 if not go to else\n",
    "            return \"You are poor\"\n",
    "        else:\n",
    "            self.__balance -= amount  # blance main se jo amount leyny hai not - karo or nickhy return kardo\n",
    "            return f\"Withdrawn {amount}. New balance: {self.__balance}\"\n",
    "            \n",
    "            \n",
    "    \n",
    "\n",
    "    def get_balance  (self) :\n",
    "        account_No = input(\"Enter Your Account number\")\n",
    "        if account_No == self.__account_number:\n",
    "            \n",
    "            return f\"Your Balance: {self.__balance}\"  \n",
    "        else:\n",
    "            return \"Invaild Account Number\"     \n",
    "\n",
    "\n",
    "\n"
   ]
  },
  {
   "cell_type": "code",
   "execution_count": 15,
   "id": "5f38402d",
   "metadata": {},
   "outputs": [
    {
     "name": "stdout",
     "output_type": "stream",
     "text": [
      "Your Balance: 1234\n",
      "Deposited 1000. New balance: 2234\n",
      "Withdrawn 100. New balance: 2134\n"
     ]
    }
   ],
   "source": [
    "BA= BankAccount(\"ab0123\", 1234)\n",
    "print(BA.get_balance())\n",
    "print(BA.deposit())\n",
    "print(BA.withdraw(100))\n"
   ]
  },
  {
   "cell_type": "code",
   "execution_count": null,
   "id": "a880a741",
   "metadata": {},
   "outputs": [],
   "source": []
  }
 ],
 "metadata": {
  "kernelspec": {
   "display_name": "base",
   "language": "python",
   "name": "python3"
  },
  "language_info": {
   "codemirror_mode": {
    "name": "ipython",
    "version": 3
   },
   "file_extension": ".py",
   "mimetype": "text/x-python",
   "name": "python",
   "nbconvert_exporter": "python",
   "pygments_lexer": "ipython3",
   "version": "3.13.5"
  }
 },
 "nbformat": 4,
 "nbformat_minor": 5
}
