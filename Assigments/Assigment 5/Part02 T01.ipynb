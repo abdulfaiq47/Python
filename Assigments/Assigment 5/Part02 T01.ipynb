{
 "cells": [
  {
   "cell_type": "markdown",
   "id": "f8e0e683",
   "metadata": {},
   "source": [
    "## Task 1: Single Level – Animal \n",
    "####   Parent class Animal with method make_sound(). \n",
    "####   Child class Dog overrides make_sound() with \"Bark!\". \n",
    "####   Show method overriding. "
   ]
  },
  {
   "cell_type": "code",
   "execution_count": 1,
   "id": "1f2c853d",
   "metadata": {},
   "outputs": [],
   "source": [
    "class Animal():\n",
    "    def __init__(self, sound):\n",
    "        self.sound = sound\n",
    "\n",
    "\n",
    "    def make_sound(self):\n",
    "        return  \"Animal can make sound\""
   ]
  },
  {
   "cell_type": "code",
   "execution_count": null,
   "id": "cf143c24",
   "metadata": {},
   "outputs": [],
   "source": [
    "class Dog(Animal):\n",
    "    def make_sound(self):\n",
    "        return \"Dog can make sound: {self.sound}\""
   ]
  },
  {
   "cell_type": "code",
   "execution_count": 5,
   "id": "7ffab7cd",
   "metadata": {},
   "outputs": [
    {
     "name": "stdout",
     "output_type": "stream",
     "text": [
      "Dog can make sound: {self.sound}\n"
     ]
    }
   ],
   "source": [
    "Sound = Dog(\"bark!\")\n",
    "print(Sound.make_sound())"
   ]
  },
  {
   "cell_type": "code",
   "execution_count": null,
   "id": "c3ff732d",
   "metadata": {},
   "outputs": [],
   "source": []
  }
 ],
 "metadata": {
  "kernelspec": {
   "display_name": "base",
   "language": "python",
   "name": "python3"
  },
  "language_info": {
   "codemirror_mode": {
    "name": "ipython",
    "version": 3
   },
   "file_extension": ".py",
   "mimetype": "text/x-python",
   "name": "python",
   "nbconvert_exporter": "python",
   "pygments_lexer": "ipython3",
   "version": "3.13.5"
  }
 },
 "nbformat": 4,
 "nbformat_minor": 5
}
