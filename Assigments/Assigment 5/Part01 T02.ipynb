{
 "cells": [
  {
   "cell_type": "markdown",
   "id": "06629c2e",
   "metadata": {},
   "source": [
    "## Task 2: Student Marks Validation\n",
    "###  Create a class Student with private attributes name, roll_no, marks.\n",
    "###  Add methods:\n",
    "#### o Setter method for marks (only accept values between 0–100).\n",
    "#### o Getters methods for all attributes."
   ]
  },
  {
   "cell_type": "code",
   "execution_count": 17,
   "id": "b78cb2be",
   "metadata": {},
   "outputs": [],
   "source": [
    "class Student:\n",
    "    def __init__(self, name, roll_No, mark):\n",
    "        self.__name = name\n",
    "        self.__roll_No = roll_No\n",
    "        self.__marks = int(mark)  # To get marks integer \n",
    "\n",
    "    # Setter Method\n",
    "    def Set_marks (self):\n",
    "        rollNO= input(\"Enter your Roll number\")\n",
    "        if rollNO == self.__roll_No:\n",
    "            Updatedmarks= int(input(\"Enter a new marks\"))\n",
    "            if Updatedmarks > 0 and Updatedmarks <=100:\n",
    "                print(f\"old marks{self.__marks} updated MArks{Updatedmarks}\")\n",
    "            else:\n",
    "                print(\" Marks limit exceed !!!\")    \n",
    "            self.__marks = Updatedmarks\n",
    "        else:\n",
    "            print(\"No record Found\")   \n",
    "\n",
    "    def get_all(self):\n",
    "        return f\"Name: {self.__name} \\nRoll Number: {self.__roll_No} \\nMarks: {self.__marks}\"         \n",
    "        "
   ]
  },
  {
   "cell_type": "code",
   "execution_count": 18,
   "id": "39bf94f6",
   "metadata": {},
   "outputs": [
    {
     "name": "stdout",
     "output_type": "stream",
     "text": [
      "Name: Abdul Faiq \n",
      "Roll Number: Ab123 \n",
      "Marks: 77\n"
     ]
    }
   ],
   "source": [
    "St= Student(\"Abdul Faiq\", \"Ab123\", 77)\n",
    "print(St.get_all())\n"
   ]
  },
  {
   "cell_type": "code",
   "execution_count": 19,
   "id": "d460054e",
   "metadata": {},
   "outputs": [
    {
     "name": "stdout",
     "output_type": "stream",
     "text": [
      "old marks77 updated MArks80\n"
     ]
    }
   ],
   "source": [
    "St.Set_marks()"
   ]
  },
  {
   "cell_type": "code",
   "execution_count": 20,
   "id": "12b857bf",
   "metadata": {},
   "outputs": [
    {
     "name": "stdout",
     "output_type": "stream",
     "text": [
      "Name: Abdul Faiq \n",
      "Roll Number: Ab123 \n",
      "Marks: 80\n"
     ]
    }
   ],
   "source": [
    "print(St.get_all())"
   ]
  },
  {
   "cell_type": "code",
   "execution_count": null,
   "id": "eae52856",
   "metadata": {},
   "outputs": [],
   "source": []
  }
 ],
 "metadata": {
  "kernelspec": {
   "display_name": "base",
   "language": "python",
   "name": "python3"
  },
  "language_info": {
   "codemirror_mode": {
    "name": "ipython",
    "version": 3
   },
   "file_extension": ".py",
   "mimetype": "text/x-python",
   "name": "python",
   "nbconvert_exporter": "python",
   "pygments_lexer": "ipython3",
   "version": "3.13.5"
  }
 },
 "nbformat": 4,
 "nbformat_minor": 5
}
