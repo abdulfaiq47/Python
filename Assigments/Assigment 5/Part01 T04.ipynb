{
 "cells": [
  {
   "cell_type": "markdown",
   "id": "2888b03c",
   "metadata": {},
   "source": [
    "## Task 4: Employee Salary Protection \n",
    "###   Create a class Employee with private attributes name, salary. \n",
    "###   Add methods: \n",
    "#### o  Getter for name. \n",
    "#### o  Setter for salary (must be positive). \n",
    "#### o  Method show_details(). "
   ]
  },
  {
   "cell_type": "code",
   "execution_count": null,
   "id": "398f83b1",
   "metadata": {},
   "outputs": [],
   "source": [
    "class Employee:\n",
    "    def __init(self, name, salary):\n",
    "        self.__name: name\n",
    "        self.__salary= salary\n",
    "        # getter method\n",
    "    def get_name(self):\n",
    "        return f\"Name: {Self.__name}\"  \n",
    "    # setter method\n",
    "    def set_salary(self):\n",
    "        \n",
    "\n",
    "\n",
    "\n",
    "        "
   ]
  },
  {
   "cell_type": "code",
   "execution_count": null,
   "id": "0b4f65a7",
   "metadata": {},
   "outputs": [],
   "source": [
    "\n"
   ]
  }
 ],
 "metadata": {
  "kernelspec": {
   "display_name": "base",
   "language": "python",
   "name": "python3"
  },
  "language_info": {
   "codemirror_mode": {
    "name": "ipython",
    "version": 3
   },
   "file_extension": ".py",
   "mimetype": "text/x-python",
   "name": "python",
   "nbconvert_exporter": "python",
   "pygments_lexer": "ipython3",
   "version": "3.13.5"
  }
 },
 "nbformat": 4,
 "nbformat_minor": 5
}
