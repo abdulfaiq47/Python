{
 "cells": [
  {
   "cell_type": "markdown",
   "id": "e30ce47a",
   "metadata": {},
   "source": [
    "## For loop\n"
   ]
  },
  {
   "cell_type": "code",
   "execution_count": 3,
   "id": "0f53ceb5",
   "metadata": {},
   "outputs": [
    {
     "name": "stdout",
     "output_type": "stream",
     "text": [
      "Apple\n",
      "Banana\n",
      "Cherry\n"
     ]
    }
   ],
   "source": [
    "friut=[\"Apple\", \"Banana\", \"Cherry\"]\n",
    "for x in friut:\n",
    "    print(x)"
   ]
  },
  {
   "cell_type": "code",
   "execution_count": 4,
   "id": "b36c1ff1",
   "metadata": {},
   "outputs": [
    {
     "name": "stdout",
     "output_type": "stream",
     "text": [
      "B\n",
      "a\n",
      "n\n",
      "a\n",
      "n\n",
      "a\n"
     ]
    }
   ],
   "source": [
    "for x in \"Banana\":\n",
    "    print(x)"
   ]
  },
  {
   "cell_type": "markdown",
   "id": "efe76db4",
   "metadata": {},
   "source": [
    "#### The break statement"
   ]
  },
  {
   "cell_type": "code",
   "execution_count": 5,
   "id": "5428072b",
   "metadata": {},
   "outputs": [
    {
     "name": "stdout",
     "output_type": "stream",
     "text": [
      "Apple\n"
     ]
    }
   ],
   "source": [
    "friut=[\"Apple\", \"Banana\", \"Cherry\"]\n",
    "for x in friut:\n",
    "    if x == \"Banana\":\n",
    "        break\n",
    "    print(x)\n",
    "     \n",
    "      "
   ]
  },
  {
   "cell_type": "code",
   "execution_count": 6,
   "id": "983628f2",
   "metadata": {},
   "outputs": [
    {
     "name": "stdout",
     "output_type": "stream",
     "text": [
      "Apple\n",
      "Banana\n"
     ]
    }
   ],
   "source": [
    "friut=[\"Apple\", \"Banana\", \"Cherry\"]\n",
    "for x in friut:\n",
    "    if x == \"Cherry\":\n",
    "        break\n",
    "    print(x)\n",
    "     "
   ]
  },
  {
   "cell_type": "markdown",
   "id": "720590c8",
   "metadata": {},
   "source": [
    "#### The continue Statement"
   ]
  },
  {
   "cell_type": "code",
   "execution_count": 7,
   "id": "2443f55b",
   "metadata": {},
   "outputs": [
    {
     "name": "stdout",
     "output_type": "stream",
     "text": [
      "Apple\n",
      "Cherry\n"
     ]
    }
   ],
   "source": [
    "friut=[\"Apple\", \"Banana\", \"Cherry\"]\n",
    "for x in friut:\n",
    "    if x==\"Banana\":\n",
    "        continue\n",
    "    print(x)"
   ]
  },
  {
   "cell_type": "markdown",
   "id": "ef450f5c",
   "metadata": {},
   "source": [
    "#### the range statement"
   ]
  },
  {
   "cell_type": "code",
   "execution_count": 8,
   "id": "0aad340c",
   "metadata": {},
   "outputs": [
    {
     "name": "stdout",
     "output_type": "stream",
     "text": [
      "0\n",
      "1\n",
      "2\n",
      "3\n",
      "4\n",
      "5\n",
      "6\n",
      "7\n",
      "8\n",
      "9\n",
      "10\n",
      "11\n",
      "12\n",
      "13\n",
      "14\n",
      "15\n",
      "16\n",
      "17\n",
      "18\n",
      "19\n"
     ]
    }
   ],
   "source": [
    "for i in range(20):\n",
    "    print(i)"
   ]
  },
  {
   "cell_type": "code",
   "execution_count": 9,
   "id": "ec80b917",
   "metadata": {},
   "outputs": [
    {
     "name": "stdout",
     "output_type": "stream",
     "text": [
      "2\n",
      "3\n",
      "4\n",
      "5\n",
      "6\n",
      "7\n",
      "8\n",
      "9\n"
     ]
    }
   ],
   "source": [
    "for i in range(2,10):\n",
    "    print(i)"
   ]
  },
  {
   "cell_type": "code",
   "execution_count": 11,
   "id": "a42bb21e",
   "metadata": {},
   "outputs": [
    {
     "name": "stdout",
     "output_type": "stream",
     "text": [
      "2\n",
      "4\n",
      "6\n",
      "8\n",
      "10\n",
      "12\n",
      "14\n",
      "16\n",
      "18\n"
     ]
    }
   ],
   "source": [
    "for i in range(2,20,2):\n",
    "    print(i)"
   ]
  },
  {
   "cell_type": "code",
   "execution_count": 13,
   "id": "93b2e502",
   "metadata": {},
   "outputs": [
    {
     "name": "stdout",
     "output_type": "stream",
     "text": [
      "2\n",
      "4\n",
      "6\n",
      "8\n",
      "10\n",
      "12\n",
      "14\n",
      "16\n",
      "18\n"
     ]
    }
   ],
   "source": [
    "for i in range(1,20):\n",
    "    if i%2==0:\n",
    "        print(i)"
   ]
  },
  {
   "cell_type": "code",
   "execution_count": 14,
   "id": "0a2d2e74",
   "metadata": {},
   "outputs": [
    {
     "name": "stdout",
     "output_type": "stream",
     "text": [
      "1\n",
      "3\n",
      "5\n",
      "7\n",
      "9\n",
      "11\n",
      "13\n",
      "15\n",
      "17\n",
      "19\n"
     ]
    }
   ],
   "source": [
    "for i in range(1,20):\n",
    "    if i%2==1:\n",
    "        print(i)"
   ]
  },
  {
   "cell_type": "markdown",
   "id": "2e5dcee2",
   "metadata": {},
   "source": [
    "### For Loop with list "
   ]
  },
  {
   "cell_type": "code",
   "execution_count": 23,
   "id": "01d91f14",
   "metadata": {},
   "outputs": [
    {
     "name": "stdout",
     "output_type": "stream",
     "text": [
      "[2, 4, 6, 8, 10, 12, 14, 16, 18]\n",
      "[1, 3, 5, 7, 9, 11, 13, 15, 17, 19]\n"
     ]
    }
   ],
   "source": [
    "even=[]\n",
    "odd=[]\n",
    "\n",
    "\n",
    "for i in range(1,20):\n",
    "    if i%2==0:\n",
    "        even.append(i)\n",
    "\n",
    "for i in range(1,20):\n",
    "    if i%2==1:\n",
    "        odd.append(i)\n",
    "\n",
    "print(even)\n",
    "print(odd)        "
   ]
  },
  {
   "cell_type": "markdown",
   "id": "6d463d77",
   "metadata": {},
   "source": [
    "### Ilterating Over A list Using For Loop "
   ]
  },
  {
   "cell_type": "code",
   "execution_count": null,
   "id": "a08b6c90",
   "metadata": {},
   "outputs": [
    {
     "name": "stdout",
     "output_type": "stream",
     "text": [
      "Thank you Mr.Ahad\n",
      "Thank you Mr.Fasih\n",
      "Thank you Mr.Farhan\n",
      "Thank you Mr.Asad\n",
      "Thank you Mr.Faizan\n"
     ]
    }
   ],
   "source": [
    "list2=[\"Ahad\",\"Fasih\",\"Farhan\",\"Asad\",\"Faizan\"]\n",
    "for name in list2:\n",
    "    print(f\"Thank you Mr.{name}\")"
   ]
  },
  {
   "cell_type": "code",
   "execution_count": 5,
   "id": "eb5d2f02",
   "metadata": {},
   "outputs": [
    {
     "name": "stdout",
     "output_type": "stream",
     "text": [
      "You are seleted Mr.Fasih\n"
     ]
    }
   ],
   "source": [
    "list2=[\"Ahad\",\"Fasih\",\"Farhan\",\"Asad\",\"Faizan\"]\n",
    "for name in list2:\n",
    "    if name==\"Fasih\":\n",
    "        print(f\"You are seleted Mr.{name}\")"
   ]
  },
  {
   "cell_type": "code",
   "execution_count": 9,
   "id": "4c681a5a",
   "metadata": {},
   "outputs": [
    {
     "name": "stdout",
     "output_type": "stream",
     "text": [
      "Mr.Ahad is not seleted \n",
      "You are seleted Mr.Fasih\n",
      "Mr.Farhan is not seleted \n",
      "Mr.Asad is not seleted \n",
      "Mr.Faizan is not seleted \n"
     ]
    }
   ],
   "source": [
    "list2=[\"Ahad\",\"Fasih\",\"Farhan\",\"Asad\",\"Faizan\"]\n",
    "for name in list2:\n",
    "    if name==\"Fasih\":\n",
    "        print(f\"You are seleted Mr.{name}\")\n",
    "    else:\n",
    "        print(f\"Mr.{name} is not seleted \")    "
   ]
  },
  {
   "cell_type": "code",
   "execution_count": 20,
   "id": "568f032f",
   "metadata": {},
   "outputs": [
    {
     "name": "stdout",
     "output_type": "stream",
     "text": [
      "['Fasih', 'Farhan', 'Asad', 'Faizan', '', '12', '12', '34', '35', '65']\n"
     ]
    }
   ],
   "source": [
    "guestlist=[]\n",
    "\n",
    "for i in range(10):\n",
    "    guestname=input(\"Tell me your guest name: \")\n",
    "    if guestname=='asad':\n",
    "        continue\n",
    "    else:\n",
    "        guestlist.append(guestname)\n",
    "\n",
    "print(guestlist)"
   ]
  },
  {
   "cell_type": "code",
   "execution_count": null,
   "id": "c7f90885",
   "metadata": {},
   "outputs": [],
   "source": []
  }
 ],
 "metadata": {
  "kernelspec": {
   "display_name": "Python 3",
   "language": "python",
   "name": "python3"
  },
  "language_info": {
   "codemirror_mode": {
    "name": "ipython",
    "version": 3
   },
   "file_extension": ".py",
   "mimetype": "text/x-python",
   "name": "python",
   "nbconvert_exporter": "python",
   "pygments_lexer": "ipython3",
   "version": "3.9.13"
  }
 },
 "nbformat": 4,
 "nbformat_minor": 5
}
