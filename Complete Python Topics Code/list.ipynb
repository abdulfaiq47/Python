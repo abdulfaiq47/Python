{
 "cells": [
  {
   "cell_type": "markdown",
   "id": "2c5d49c3",
   "metadata": {},
   "source": [
    "## List"
   ]
  },
  {
   "cell_type": "code",
   "execution_count": 46,
   "id": "8b992b4b",
   "metadata": {},
   "outputs": [],
   "source": [
    "# syntax:\n",
    "\n",
    "# List_name=[element1,element2,..........element n]"
   ]
  },
  {
   "cell_type": "code",
   "execution_count": 47,
   "id": "d245499a",
   "metadata": {},
   "outputs": [
    {
     "name": "stdout",
     "output_type": "stream",
     "text": [
      "['asad', 'fawad', 'mehmmod', 'aleem', 'abdul rehman', 'ishaq', 'ameen', 'umer', 'ali']\n"
     ]
    },
    {
     "data": {
      "text/plain": [
       "['asad',\n",
       " 'fawad',\n",
       " 'mehmmod',\n",
       " 'aleem',\n",
       " 'abdul rehman',\n",
       " 'ishaq',\n",
       " 'ameen',\n",
       " 'umer',\n",
       " 'ali']"
      ]
     },
     "execution_count": 47,
     "metadata": {},
     "output_type": "execute_result"
    }
   ],
   "source": [
    "students=[\"asad\",\"fawad\",\"mehmmod\",\"aleem\",\"abdul rehman\",\"ishaq\",\"ameen\",\"umer\",\"ali\"]\n",
    "#+ve index  0       1         2        3         4           5       6       7      8\n",
    "#-ve index -9      -8        -7       -6        -5          -4      -3      -2     -1\n",
    "\n",
    "\n",
    "print(students)\n",
    "students"
   ]
  },
  {
   "cell_type": "code",
   "execution_count": 48,
   "id": "35803198",
   "metadata": {},
   "outputs": [
    {
     "data": {
      "text/plain": [
       "list"
      ]
     },
     "execution_count": 48,
     "metadata": {},
     "output_type": "execute_result"
    }
   ],
   "source": [
    "type(students)"
   ]
  },
  {
   "cell_type": "code",
   "execution_count": 49,
   "id": "a37ce3c1",
   "metadata": {},
   "outputs": [
    {
     "data": {
      "text/plain": [
       "'asad'"
      ]
     },
     "execution_count": 49,
     "metadata": {},
     "output_type": "execute_result"
    }
   ],
   "source": [
    "students[0]"
   ]
  },
  {
   "cell_type": "code",
   "execution_count": 50,
   "id": "305552b4",
   "metadata": {},
   "outputs": [
    {
     "data": {
      "text/plain": [
       "'ameen'"
      ]
     },
     "execution_count": 50,
     "metadata": {},
     "output_type": "execute_result"
    }
   ],
   "source": [
    "students[6]"
   ]
  },
  {
   "cell_type": "code",
   "execution_count": 51,
   "id": "846ea64d",
   "metadata": {},
   "outputs": [
    {
     "data": {
      "text/plain": [
       "'ameen'"
      ]
     },
     "execution_count": 51,
     "metadata": {},
     "output_type": "execute_result"
    }
   ],
   "source": [
    "students[-3]"
   ]
  },
  {
   "cell_type": "code",
   "execution_count": 52,
   "id": "8466d8e7",
   "metadata": {},
   "outputs": [
    {
     "data": {
      "text/plain": [
       "('aleem', 'ameen', 'ali', 'umer')"
      ]
     },
     "execution_count": 52,
     "metadata": {},
     "output_type": "execute_result"
    }
   ],
   "source": [
    "students[3],students[6],students[8],students[7]"
   ]
  },
  {
   "cell_type": "code",
   "execution_count": 53,
   "id": "dc40c75a",
   "metadata": {},
   "outputs": [
    {
     "name": "stdout",
     "output_type": "stream",
     "text": [
      "['asad', 'fawad', 'mehmmod', 'aleem', 'abdul rehman', 'ishaq', 'ameen', 'umer', 'ali']\n",
      "['asad', 'fawad', 'Hassan', 'aleem', 'abdul rehman', 'ishaq', 'ameen', 'umer', 'ali']\n"
     ]
    }
   ],
   "source": [
    "print(students)\n",
    "\n",
    "students[2]=\"Hassan\"\n",
    "\n",
    "print(students)"
   ]
  },
  {
   "cell_type": "code",
   "execution_count": 54,
   "id": "04169da6",
   "metadata": {},
   "outputs": [
    {
     "name": "stdout",
     "output_type": "stream",
     "text": [
      "['asad', 'fawad', 'Hassan', 'abdul rehman', 'ishaq', 'ameen', 'umer', 'ali']\n"
     ]
    }
   ],
   "source": [
    "del students[3]   # aleem will be delete\n",
    "\n",
    "print(students)"
   ]
  },
  {
   "cell_type": "code",
   "execution_count": 55,
   "id": "e49b8996",
   "metadata": {},
   "outputs": [
    {
     "name": "stdout",
     "output_type": "stream",
     "text": [
      "[['asad', 'fawad', 'Hassan', 'abdul rehman', 'ishaq', 'ameen', 'umer', 'ali'], 'math', 'english', 'physics', 'computer']\n"
     ]
    }
   ],
   "source": [
    "course=[students,\"math\",\"english\",\"physics\",\"computer\"]    # list in list \n",
    "#+ve index  0       1         2        3         4          \n",
    "#-ve index -9      -8        -7       -6        -5      \n",
    "\n",
    "print(course)"
   ]
  },
  {
   "cell_type": "code",
   "execution_count": 62,
   "id": "96915cfc",
   "metadata": {},
   "outputs": [
    {
     "name": "stdout",
     "output_type": "stream",
     "text": [
      "[['asad', 'fawad', 'Hassan', 'abdul rehman', 'ishaq', 'ameen', 'umer', 'ali'], 'math', 'english', 'urdu', 'physics', 'computer', 'A4', 'B7', 'A4', 'B7', 'chemistry']\n"
     ]
    }
   ],
   "source": [
    "# adding a new list at the end\n",
    "course.append(\"chemistry\")\n",
    "\n",
    "print(course)"
   ]
  },
  {
   "cell_type": "code",
   "execution_count": 57,
   "id": "c72aed14",
   "metadata": {},
   "outputs": [
    {
     "name": "stdout",
     "output_type": "stream",
     "text": [
      "[['asad', 'fawad', 'Hassan', 'abdul rehman', 'ishaq', 'ameen', 'umer', 'ali'], 'math', 'english', 'urdu', 'physics', 'computer', 'chemistry']\n"
     ]
    }
   ],
   "source": [
    "# adding a new list with specific location\n",
    "\n",
    "course.insert(3,\"urdu\")\n",
    "\n",
    "print(course)"
   ]
  },
  {
   "cell_type": "code",
   "execution_count": 58,
   "id": "17d700d5",
   "metadata": {},
   "outputs": [
    {
     "name": "stdout",
     "output_type": "stream",
     "text": [
      "[['asad', 'fawad', 'Hassan', 'abdul rehman', 'ishaq', 'ameen', 'umer', 'ali'], 'math', 'english', 'urdu', 'physics', 'computer']\n"
     ]
    }
   ],
   "source": [
    "course.remove(\"chemistry\")\n",
    "print(course)"
   ]
  },
  {
   "cell_type": "code",
   "execution_count": 61,
   "id": "91e35329",
   "metadata": {},
   "outputs": [
    {
     "name": "stdout",
     "output_type": "stream",
     "text": [
      "[['asad', 'fawad', 'Hassan', 'abdul rehman', 'ishaq', 'ameen', 'umer', 'ali'], 'math', 'english', 'urdu', 'physics', 'computer', 'A4', 'B7', 'A4', 'B7']\n"
     ]
    }
   ],
   "source": [
    "# use to extand list by adding new values\n",
    "\n",
    "course.extend([\"A4\",\"B7\"])\n",
    "\n",
    "print(course)"
   ]
  },
  {
   "cell_type": "code",
   "execution_count": 63,
   "id": "e02af833",
   "metadata": {},
   "outputs": [],
   "source": [
    "Number=[1,2,3,4,5,6,7,8,9,10]"
   ]
  },
  {
   "cell_type": "code",
   "execution_count": 65,
   "id": "90269a79",
   "metadata": {},
   "outputs": [
    {
     "name": "stdout",
     "output_type": "stream",
     "text": [
      "[1, 2, 3, 4, 5, 6, 7, 8, 9, 10]\n"
     ]
    }
   ],
   "source": [
    "print(Number)"
   ]
  },
  {
   "cell_type": "code",
   "execution_count": 67,
   "id": "631788e3",
   "metadata": {},
   "outputs": [
    {
     "data": {
      "text/plain": [
       "6"
      ]
     },
     "execution_count": 67,
     "metadata": {},
     "output_type": "execute_result"
    }
   ],
   "source": [
    "Number[5]"
   ]
  },
  {
   "cell_type": "code",
   "execution_count": 78,
   "id": "4910de32",
   "metadata": {},
   "outputs": [
    {
     "data": {
      "text/plain": [
       "[2, 5]"
      ]
     },
     "execution_count": 78,
     "metadata": {},
     "output_type": "execute_result"
    }
   ],
   "source": [
    "Number[1:7:3]"
   ]
  },
  {
   "cell_type": "code",
   "execution_count": 80,
   "id": "53bf7499",
   "metadata": {},
   "outputs": [
    {
     "data": {
      "text/plain": [
       "[2, 4, 6, 8]"
      ]
     },
     "execution_count": 80,
     "metadata": {},
     "output_type": "execute_result"
    }
   ],
   "source": [
    "Number[1:9:2]"
   ]
  },
  {
   "cell_type": "code",
   "execution_count": 83,
   "id": "8df5b8f0",
   "metadata": {},
   "outputs": [
    {
     "data": {
      "text/plain": [
       "[4, 5, 6, 7, 8]"
      ]
     },
     "execution_count": 83,
     "metadata": {},
     "output_type": "execute_result"
    }
   ],
   "source": [
    "Number[-7:-2]"
   ]
  },
  {
   "cell_type": "code",
   "execution_count": 84,
   "id": "c97fe1db",
   "metadata": {},
   "outputs": [
    {
     "name": "stdout",
     "output_type": "stream",
     "text": [
      "['Apple', 'Banana', 'cherry', 'Mango', 'Oramge', 'Melon', 'Kiwi']\n"
     ]
    }
   ],
   "source": [
    "thelist=[\"Apple\",\"Banana\",\"cherry\",\"Mango\",\"Oramge\",\"Melon\",\"Kiwi\"]\n",
    "print(thelist)"
   ]
  },
  {
   "cell_type": "code",
   "execution_count": 85,
   "id": "7c86fc84",
   "metadata": {},
   "outputs": [
    {
     "name": "stdout",
     "output_type": "stream",
     "text": [
      "['cherry', 'Mango', 'Oramge', 'Melon', 'Kiwi']\n"
     ]
    }
   ],
   "source": [
    "print(thelist[2:])"
   ]
  },
  {
   "cell_type": "code",
   "execution_count": 86,
   "id": "db584add",
   "metadata": {},
   "outputs": [
    {
     "name": "stdout",
     "output_type": "stream",
     "text": [
      "['Mango', 'Melon']\n"
     ]
    }
   ],
   "source": [
    "print(thelist[3:9:2])"
   ]
  },
  {
   "cell_type": "code",
   "execution_count": 88,
   "id": "09962b49",
   "metadata": {},
   "outputs": [
    {
     "name": "stdout",
     "output_type": "stream",
     "text": [
      "['Mango', 'Oramge', 'Melon']\n"
     ]
    }
   ],
   "source": [
    "print(thelist[-4:-1])"
   ]
  },
  {
   "cell_type": "code",
   "execution_count": 89,
   "id": "99b71253",
   "metadata": {},
   "outputs": [
    {
     "name": "stdout",
     "output_type": "stream",
     "text": [
      "['Apple', 'Banana', 'cherry', 'Mango', 'Oramge', 'Melon', 'Kiwi']\n"
     ]
    }
   ],
   "source": [
    "print(thelist)"
   ]
  },
  {
   "cell_type": "code",
   "execution_count": 91,
   "id": "8a00df6f",
   "metadata": {},
   "outputs": [
    {
     "name": "stdout",
     "output_type": "stream",
     "text": [
      "Yes, 'Kiwi is in the list\n"
     ]
    }
   ],
   "source": [
    "thelist=[\"Apple\",\"Banana\",\"cherry\",\"Mango\",\"Oramge\",\"Melon\",\"Kiwi\"]\n",
    "if 'Kiwi' in thelist:  # Membership operator(in)\n",
    "    print(\"Yes, 'Kiwi is in the list\")"
   ]
  },
  {
   "cell_type": "code",
   "execution_count": 97,
   "id": "f9e7d3c6",
   "metadata": {},
   "outputs": [
    {
     "name": "stdout",
     "output_type": "stream",
     "text": [
      "No, 'PineApple' is not in the list \n"
     ]
    }
   ],
   "source": [
    "thelist=[\"Apple\",\"Banana\",\"cherry\",\"Mango\",\"Orange\",\"Melon\",\"Kiwi\"]\n",
    "if \"PineApple\" in thelist:\n",
    "    print(\"Yes, 'PineApple' is in the list \")\n",
    "else:\n",
    "    print(\"No, 'PineApple' is not in the list \")\n"
   ]
  },
  {
   "cell_type": "code",
   "execution_count": 5,
   "id": "9db94aa0",
   "metadata": {},
   "outputs": [
    {
     "name": "stdout",
     "output_type": "stream",
     "text": [
      "['Apple', 'blackcurrant', 'watermelon', 'cherry', 'Mango', 'Orange', 'Melon', 'Kiwi']\n"
     ]
    }
   ],
   "source": [
    "thelist=[\"Apple\",\"Banana\",\"cherry\",\"Mango\",\"Orange\",\"Melon\",\"Kiwi\"]\n",
    "\n",
    "thelist[1:2] = [\"blackcurrant\",\"watermelon\"]\n",
    "print(thelist)\n"
   ]
  },
  {
   "cell_type": "code",
   "execution_count": 6,
   "id": "368df631",
   "metadata": {},
   "outputs": [
    {
     "name": "stdout",
     "output_type": "stream",
     "text": [
      "['Apple', ['blackcurrant', 'watermelon'], 'cherry', 'Mango', 'Orange', 'Melon', 'Kiwi']\n"
     ]
    }
   ],
   "source": [
    "thelist=[\"Apple\",\"Banana\",\"cherry\",\"Mango\",\"Orange\",\"Melon\",\"Kiwi\"]\n",
    "\n",
    "thelist[1] = [\"blackcurrant\",\"watermelon\"]\n",
    "print(thelist)"
   ]
  },
  {
   "cell_type": "code",
   "execution_count": 7,
   "id": "31f6598a",
   "metadata": {},
   "outputs": [
    {
     "name": "stdout",
     "output_type": "stream",
     "text": [
      "['apple', 'banana', 'cherry', 'mango', 'pineapple', 'papaya']\n"
     ]
    }
   ],
   "source": [
    "thislist = [\"apple\", \"banana\", \"cherry\"]\n",
    "tropical = [\"mango\", \"pineapple\", \"papaya\"]\n",
    "thislist.extend(tropical)\n",
    "print(thislist)"
   ]
  },
  {
   "cell_type": "code",
   "execution_count": 8,
   "id": "145b1b10",
   "metadata": {},
   "outputs": [
    {
     "name": "stdout",
     "output_type": "stream",
     "text": [
      "['apple', 'banana']\n"
     ]
    }
   ],
   "source": [
    "thislist = [\"apple\", \"banana\", \"cherry\"]\n",
    "thislist.pop()  # removing the last item by defult\n",
    "print(thislist)"
   ]
  },
  {
   "cell_type": "code",
   "execution_count": 9,
   "id": "c723757f",
   "metadata": {},
   "outputs": [
    {
     "name": "stdout",
     "output_type": "stream",
     "text": [
      "['apple', 'cherry']\n"
     ]
    }
   ],
   "source": [
    "thislist = [\"apple\", \"banana\", \"cherry\"]\n",
    "thislist.pop(1)  # removing the last item by given number\n",
    "print(thislist)"
   ]
  },
  {
   "cell_type": "code",
   "execution_count": 10,
   "id": "a0a9c4ed",
   "metadata": {},
   "outputs": [
    {
     "name": "stdout",
     "output_type": "stream",
     "text": [
      "[]\n"
     ]
    }
   ],
   "source": [
    "thislist = [\"apple\", \"banana\", \"cherry\"]\n",
    "thislist.clear()\n",
    "print(thislist)"
   ]
  }
 ],
 "metadata": {
  "kernelspec": {
   "display_name": "Python 3",
   "language": "python",
   "name": "python3"
  },
  "language_info": {
   "codemirror_mode": {
    "name": "ipython",
    "version": 3
   },
   "file_extension": ".py",
   "mimetype": "text/x-python",
   "name": "python",
   "nbconvert_exporter": "python",
   "pygments_lexer": "ipython3",
   "version": "3.9.13"
  }
 },
 "nbformat": 4,
 "nbformat_minor": 5
}
