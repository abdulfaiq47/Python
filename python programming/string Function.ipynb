{
 "cells": [
  {
   "cell_type": "markdown",
   "id": "f286d149",
   "metadata": {},
   "source": [
    "### String Formation"
   ]
  },
  {
   "cell_type": "code",
   "execution_count": 1,
   "id": "a275f9c7",
   "metadata": {},
   "outputs": [
    {
     "name": "stdout",
     "output_type": "stream",
     "text": [
      "Dear your name is Abdul Faiq , Your age is 1111.0 and your a Computer Science  student\n"
     ]
    }
   ],
   "source": [
    "name=input(\"Enter your name: \")\n",
    "age=float(input(\"Enter yor age: \"))\n",
    "field=input(\"Enter your field: \")\n",
    "\n",
    "print(\"Dear your name is {} , Your age is {} and your a {}  student\".format(name,age,field))"
   ]
  },
  {
   "cell_type": "code",
   "execution_count": 2,
   "id": "05bf3b0e",
   "metadata": {},
   "outputs": [
    {
     "name": "stdout",
     "output_type": "stream",
     "text": [
      "           Bano Qabil\n",
      "Name: Abdul Faiq\n",
      "courses: Python\n",
      "Timing:  4:00 to 6:00\n"
     ]
    }
   ],
   "source": [
    "program=input(\"Enter a program name: \")\n",
    "name=input(\"Enter your name: \")\n",
    "course=input(\"Enter your course name: \")\n",
    "timing=input(\"Enter class timings: \")\n",
    "\n",
    "\n",
    "print(f\"\"\"           {program}\n",
    "Name: {name}\n",
    "courses: {course}\n",
    "Timing:  {timing}\"\"\")"
   ]
  },
  {
   "cell_type": "code",
   "execution_count": null,
   "id": "e3cec008",
   "metadata": {},
   "outputs": [],
   "source": []
  }
 ],
 "metadata": {
  "kernelspec": {
   "display_name": "Python 3",
   "language": "python",
   "name": "python3"
  },
  "language_info": {
   "codemirror_mode": {
    "name": "ipython",
    "version": 3
   },
   "file_extension": ".py",
   "mimetype": "text/x-python",
   "name": "python",
   "nbconvert_exporter": "python",
   "pygments_lexer": "ipython3",
   "version": "3.9.13"
  }
 },
 "nbformat": 4,
 "nbformat_minor": 5
}
