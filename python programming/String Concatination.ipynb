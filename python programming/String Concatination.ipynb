{
 "cells": [
  {
   "cell_type": "markdown",
   "metadata": {},
   "source": [
    "### String Concatination"
   ]
  },
  {
   "cell_type": "code",
   "execution_count": 27,
   "metadata": {},
   "outputs": [
    {
     "name": "stdout",
     "output_type": "stream",
     "text": [
      "my name is  abdul Faiq\n"
     ]
    }
   ],
   "source": [
    "first_name=\"abdul\"\n",
    "last_name=\"Faiq\"\n",
    "\n",
    "print(f\"\"\"my name is  {first_name} {last_name}\"\"\")"
   ]
  },
  {
   "cell_type": "code",
   "execution_count": 28,
   "metadata": {},
   "outputs": [
    {
     "name": "stdout",
     "output_type": "stream",
     "text": [
      "abdul Faiq\n"
     ]
    }
   ],
   "source": [
    "first_name=\"abdul\"\n",
    "last_name=\"Faiq\"\n",
    "\n",
    "print(f\"\"\"{first_name} {last_name}\"\"\")"
   ]
  },
  {
   "cell_type": "code",
   "execution_count": 29,
   "metadata": {},
   "outputs": [
    {
     "name": "stdout",
     "output_type": "stream",
     "text": [
      "Abdul Faiq\n"
     ]
    }
   ],
   "source": [
    "first_name=\"Abdul\"\n",
    "last_name=\"Faiq\"\n",
    "\n",
    "\n",
    "print(first_name+\" \"+last_name)"
   ]
  },
  {
   "cell_type": "code",
   "execution_count": 2,
   "metadata": {},
   "outputs": [
    {
     "name": "stdout",
     "output_type": "stream",
     "text": [
      " My name is Abdul Faiq.\n"
     ]
    }
   ],
   "source": [
    "First_Name=input(\"Enter your First Name: \")\n",
    "Last_Name=input(\"Enter your Last Name: \")\n",
    "print(f\"\"\" My name is {First_Name} {Last_Name}.\"\"\")\n"
   ]
  },
  {
   "cell_type": "code",
   "execution_count": null,
   "metadata": {},
   "outputs": [],
   "source": []
  }
 ],
 "metadata": {
  "kernelspec": {
   "display_name": "Python 3",
   "language": "python",
   "name": "python3"
  },
  "language_info": {
   "codemirror_mode": {
    "name": "ipython",
    "version": 3
   },
   "file_extension": ".py",
   "mimetype": "text/x-python",
   "name": "python",
   "nbconvert_exporter": "python",
   "pygments_lexer": "ipython3",
   "version": "3.11.9"
  }
 },
 "nbformat": 4,
 "nbformat_minor": 2
}
