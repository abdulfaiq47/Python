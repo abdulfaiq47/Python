{
 "cells": [
  {
   "cell_type": "markdown",
   "id": "f1ceea39",
   "metadata": {},
   "source": [
    "## Function"
   ]
  },
  {
   "cell_type": "code",
   "execution_count": 2,
   "id": "3cbd036d",
   "metadata": {},
   "outputs": [],
   "source": [
    "def faiq(avb):\n",
    "    total=0\n",
    "    for val in avb:\n",
    "        total=total+val\n",
    "    return total/len(avb)"
   ]
  },
  {
   "cell_type": "code",
   "execution_count": 5,
   "id": "8597d36d",
   "metadata": {},
   "outputs": [
    {
     "data": {
      "text/plain": [
       "5.5"
      ]
     },
     "execution_count": 5,
     "metadata": {},
     "output_type": "execute_result"
    }
   ],
   "source": [
    "faiq([1,2,3,4,5,6,7,8,9,10])"
   ]
  },
  {
   "cell_type": "code",
   "execution_count": 6,
   "id": "48765237",
   "metadata": {},
   "outputs": [],
   "source": [
    "def ab():\n",
    "    return  'Hello World this is me'"
   ]
  },
  {
   "cell_type": "code",
   "execution_count": 7,
   "id": "47ec0d7e",
   "metadata": {},
   "outputs": [
    {
     "data": {
      "text/plain": [
       "'Hello World this is me'"
      ]
     },
     "execution_count": 7,
     "metadata": {},
     "output_type": "execute_result"
    }
   ],
   "source": [
    "ab()"
   ]
  },
  {
   "cell_type": "code",
   "execution_count": 18,
   "id": "03be2f7f",
   "metadata": {},
   "outputs": [],
   "source": [
    "def info(Name,Class,roll_No,Field):\n",
    "    print(f\"\"\" About Myself\n",
    "Name:{Name}\n",
    "Class:{Class}\n",
    "Roll-NO.:{roll_No}\n",
    "Field:{Field}\"\"\")\n"
   ]
  },
  {
   "cell_type": "code",
   "execution_count": 19,
   "id": "a3af9da2",
   "metadata": {},
   "outputs": [
    {
     "name": "stdout",
     "output_type": "stream",
     "text": [
      " About Myself\n",
      "Name:Abdul Faiq\n",
      "Class:11\n",
      "Roll-NO.:121\n",
      "Field:Computer science\n"
     ]
    }
   ],
   "source": [
    "info(\"Abdul Faiq\",11,121,\"Computer science\")"
   ]
  },
  {
   "cell_type": "code",
   "execution_count": 36,
   "id": "93121c06",
   "metadata": {},
   "outputs": [],
   "source": [
    "def para(text):\n",
    "    print(text.lower())\n",
    "    \n",
    "    print(text.capitalize())"
   ]
  },
  {
   "cell_type": "code",
   "execution_count": 37,
   "id": "a9d8317e",
   "metadata": {},
   "outputs": [
    {
     "name": "stdout",
     "output_type": "stream",
     "text": [
      "my name is abdul faiq\n",
      "My name is abdul faiq\n"
     ]
    }
   ],
   "source": [
    "para(\"My Name is Abdul Faiq\")"
   ]
  },
  {
   "cell_type": "code",
   "execution_count": 38,
   "id": "371c966b",
   "metadata": {},
   "outputs": [],
   "source": [
    "def faiq(num):\n",
    "    faiq=num**2\n",
    "    return faiq"
   ]
  },
  {
   "cell_type": "code",
   "execution_count": 39,
   "id": "24493178",
   "metadata": {},
   "outputs": [
    {
     "data": {
      "text/plain": [
       "25"
      ]
     },
     "execution_count": 39,
     "metadata": {},
     "output_type": "execute_result"
    }
   ],
   "source": [
    "faiq(5)"
   ]
  },
  {
   "cell_type": "code",
   "execution_count": 40,
   "id": "f0b0557a",
   "metadata": {},
   "outputs": [
    {
     "data": {
      "text/plain": [
       "529"
      ]
     },
     "execution_count": 40,
     "metadata": {},
     "output_type": "execute_result"
    }
   ],
   "source": [
    "faiq(23)"
   ]
  },
  {
   "cell_type": "markdown",
   "id": "4cae9005",
   "metadata": {},
   "source": [
    "## Positional Parameters and arguments"
   ]
  },
  {
   "cell_type": "code",
   "execution_count": 52,
   "id": "ae761723",
   "metadata": {},
   "outputs": [],
   "source": [
    "def name(first_name,last_name):\n",
    "    full_name=first_name+\" \"+last_name\n",
    "    return full_name\n"
   ]
  },
  {
   "cell_type": "code",
   "execution_count": 54,
   "id": "d158e537",
   "metadata": {},
   "outputs": [
    {
     "data": {
      "text/plain": [
       "'Abdul Faiq'"
      ]
     },
     "execution_count": 54,
     "metadata": {},
     "output_type": "execute_result"
    }
   ],
   "source": [
    "name(\"Abdul\",\"Faiq\")\n"
   ]
  },
  {
   "cell_type": "code",
   "execution_count": 55,
   "id": "8f0b6c17",
   "metadata": {},
   "outputs": [],
   "source": [
    "def min_max(num):\n",
    "    return min(num),max(num)"
   ]
  },
  {
   "cell_type": "code",
   "execution_count": 56,
   "id": "7bb50009",
   "metadata": {},
   "outputs": [
    {
     "data": {
      "text/plain": [
       "(1, 5)"
      ]
     },
     "execution_count": 56,
     "metadata": {},
     "output_type": "execute_result"
    }
   ],
   "source": [
    "min_max({1,2,3,4,5})"
   ]
  },
  {
   "cell_type": "code",
   "execution_count": null,
   "id": "b47d5ac3",
   "metadata": {},
   "outputs": [],
   "source": [
    "def sqr(num):\n",
    "    return[b**2 for b in num]"
   ]
  },
  {
   "cell_type": "code",
   "execution_count": 67,
   "id": "b487a03f",
   "metadata": {},
   "outputs": [
    {
     "data": {
      "text/plain": [
       "[4, 9, 16, 25, 36, 49, 64, 81]"
      ]
     },
     "execution_count": 67,
     "metadata": {},
     "output_type": "execute_result"
    }
   ],
   "source": [
    "arr_sqr([2,3,4,5,6,7,8,9])"
   ]
  },
  {
   "cell_type": "code",
   "execution_count": 70,
   "id": "92bf27e9",
   "metadata": {},
   "outputs": [],
   "source": [
    "def sqr(num):\n",
    "    for b in num:\n",
    "        sqr=b**2\n",
    "        return sqr\n",
    "   \n"
   ]
  },
  {
   "cell_type": "code",
   "execution_count": 75,
   "id": "acbad290",
   "metadata": {},
   "outputs": [
    {
     "data": {
      "text/plain": [
       "16"
      ]
     },
     "execution_count": 75,
     "metadata": {},
     "output_type": "execute_result"
    }
   ],
   "source": [
    "sqr([4])"
   ]
  },
  {
   "cell_type": "markdown",
   "id": "d37c718f",
   "metadata": {},
   "source": [
    "## Default Parameters"
   ]
  },
  {
   "cell_type": "markdown",
   "id": "c98549ee",
   "metadata": {},
   "source": [
    "### Calculator"
   ]
  },
  {
   "cell_type": "code",
   "execution_count": 17,
   "id": "4a2bb423",
   "metadata": {},
   "outputs": [],
   "source": [
    "def calculator(num,task=\"\"):\n",
    "    # add,sub.mul.div.expo,avg\n",
    "    if task==\"add\":\n",
    "        total=0\n",
    "        for add in num:\n",
    "            total=total+add\n",
    "        return total\n",
    "    elif task==\"sub\":\n",
    "        total=0\n",
    "        for sub in num:\n",
    "            total=sub-total\n",
    "        return total    \n",
    "    elif task==\"mul\":\n",
    "        total=1\n",
    "        for mul in num:\n",
    "            total=total*mul\n",
    "        return total  \n",
    "    elif task==\"div\":\n",
    "        total=1\n",
    "        for div in num:\n",
    "            total=div/total\n",
    "        return total \n",
    "    elif task==\"expo\":\n",
    "        power=int(input(\"Enter a Power\"))\n",
    "        return [sqr**power for sqr in num]\n",
    "    elif task==\"avg\":\n",
    "        total=0\n",
    "        for avg in num:\n",
    "            total=total+avg\n",
    "            return total/len(num)\n",
    "    else:\n",
    "        print(num)"
   ]
  },
  {
   "cell_type": "code",
   "execution_count": 18,
   "id": "22dcf96c",
   "metadata": {},
   "outputs": [
    {
     "data": {
      "text/plain": [
       "103"
      ]
     },
     "execution_count": 18,
     "metadata": {},
     "output_type": "execute_result"
    }
   ],
   "source": [
    "calculator([25,78],\"add\")"
   ]
  },
  {
   "cell_type": "code",
   "execution_count": 19,
   "id": "95bb42b9",
   "metadata": {},
   "outputs": [
    {
     "data": {
      "text/plain": [
       "53"
      ]
     },
     "execution_count": 19,
     "metadata": {},
     "output_type": "execute_result"
    }
   ],
   "source": [
    "calculator([25,78],\"sub\")"
   ]
  },
  {
   "cell_type": "code",
   "execution_count": 20,
   "id": "8826384f",
   "metadata": {},
   "outputs": [
    {
     "data": {
      "text/plain": [
       "1950"
      ]
     },
     "execution_count": 20,
     "metadata": {},
     "output_type": "execute_result"
    }
   ],
   "source": [
    "calculator([25,78],\"mul\")"
   ]
  },
  {
   "cell_type": "code",
   "execution_count": 21,
   "id": "47f889e1",
   "metadata": {},
   "outputs": [
    {
     "data": {
      "text/plain": [
       "3.12"
      ]
     },
     "execution_count": 21,
     "metadata": {},
     "output_type": "execute_result"
    }
   ],
   "source": [
    "calculator([25,78],\"div\")"
   ]
  },
  {
   "cell_type": "code",
   "execution_count": 22,
   "id": "12cde171",
   "metadata": {},
   "outputs": [
    {
     "data": {
      "text/plain": [
       "[8]"
      ]
     },
     "execution_count": 22,
     "metadata": {},
     "output_type": "execute_result"
    }
   ],
   "source": [
    "calculator([2],\"expo\")"
   ]
  },
  {
   "cell_type": "code",
   "execution_count": 23,
   "id": "30b9ae1b",
   "metadata": {},
   "outputs": [
    {
     "data": {
      "text/plain": [
       "0.2"
      ]
     },
     "execution_count": 23,
     "metadata": {},
     "output_type": "execute_result"
    }
   ],
   "source": [
    "calculator([1,2,3,4,5],\"avg\")"
   ]
  },
  {
   "cell_type": "code",
   "execution_count": null,
   "id": "2d2107ee",
   "metadata": {},
   "outputs": [],
   "source": []
  }
 ],
 "metadata": {
  "kernelspec": {
   "display_name": "Python 3",
   "language": "python",
   "name": "python3"
  },
  "language_info": {
   "codemirror_mode": {
    "name": "ipython",
    "version": 3
   },
   "file_extension": ".py",
   "mimetype": "text/x-python",
   "name": "python",
   "nbconvert_exporter": "python",
   "pygments_lexer": "ipython3",
   "version": "3.9.13"
  }
 },
 "nbformat": 4,
 "nbformat_minor": 5
}
