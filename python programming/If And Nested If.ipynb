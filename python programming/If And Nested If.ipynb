{
 "cells": [
  {
   "cell_type": "markdown",
   "id": "6740f1e0",
   "metadata": {},
   "source": [
    "## If And Nested IF"
   ]
  },
  {
   "cell_type": "code",
   "execution_count": 4,
   "id": "3f1dd699",
   "metadata": {},
   "outputs": [
    {
     "name": "stdout",
     "output_type": "stream",
     "text": [
      "          Herald Citi School\n",
      "      \n",
      "      Your name is nameAbdul Faiq\n",
      "Your Percentage is : 89.0909090909091\n",
      "Your Grade is : A\n",
      "      \n",
      "\n",
      "\n"
     ]
    }
   ],
   "source": [
    "Name=input(\"Enter Your Name: \")\n",
    "sub1=float(input(\"Enter your Computer Marks: \"))\n",
    "sub2=float(input(\"Enter your Physics Marks: \"))\n",
    "sub3=float(input(\"Enter your Chemistry Marks: \"))\n",
    "sub4=float(input(\"Enter your English Marks: \"))\n",
    "sub5=float(input(\"Enter your PST Marks: \"))\n",
    "sub6=float(input(\"Enter your Sindhi Marks: \"))\n",
    "sub7=float(input(\"Enter your Math Marks: \"))\n",
    "\n",
    "Obatined_Marks=sub1+sub2+sub3+sub4+sub5+sub6+sub7\n",
    "Total_Marks=550\n",
    "percentage=(Obatined_Marks*100)/Total_Marks\n",
    "\n",
    "grade=None\n",
    "#10-point grading system\n",
    "if percentage>=90 and percentage<=100:\n",
    "    grade='A+'\n",
    "elif percentage>=80 and percentage<90:\n",
    "    grade='A'\n",
    "elif percentage>=70 and percentage<80:\n",
    "    grade='B'\n",
    "elif percentage>=60 and percentage<70:\n",
    "    grade='C'\n",
    "elif percentage>=50 and percentage<60:\n",
    "    grade='D'\n",
    "else:\n",
    "    grade='F'\n",
    "\n",
    "\n",
    "\n",
    "print(f\"\"\"          Herald Citi School\n",
    "      \n",
    "      Your name is name{Name}\n",
    "Your Percentage is : {percentage}\n",
    "Your Grade is : {grade}\n",
    "      \n",
    "\n",
    "\"\"\") \n",
    "\n",
    "        \n",
    "    \n",
    "\n"
   ]
  },
  {
   "cell_type": "code",
   "execution_count": null,
   "id": "204fed19",
   "metadata": {},
   "outputs": [],
   "source": []
  }
 ],
 "metadata": {
  "kernelspec": {
   "display_name": "Python 3",
   "language": "python",
   "name": "python3"
  },
  "language_info": {
   "codemirror_mode": {
    "name": "ipython",
    "version": 3
   },
   "file_extension": ".py",
   "mimetype": "text/x-python",
   "name": "python",
   "nbconvert_exporter": "python",
   "pygments_lexer": "ipython3",
   "version": "3.9.13"
  }
 },
 "nbformat": 4,
 "nbformat_minor": 5
}
